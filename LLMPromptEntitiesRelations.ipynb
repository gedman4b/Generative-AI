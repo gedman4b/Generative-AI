{
 "cells": [
  {
   "cell_type": "code",
   "execution_count": 1,
   "id": "6be0bf58-5629-4146-a7e6-583297be1b34",
   "metadata": {},
   "outputs": [],
   "source": [
    "# Ignore insignificant warnings (ex: deprecation warnings)\n",
    "import warnings\n",
    "warnings.filterwarnings('ignore')"
   ]
  },
  {
   "cell_type": "code",
   "execution_count": 6,
   "id": "e7148032-b047-44a4-afb7-44a5b27db4eb",
   "metadata": {},
   "outputs": [
    {
     "data": {
      "text/plain": [
       "<Graph identifier=Nab86df552c5d42879ab778d6ba37dd29 (<class 'rdflib.graph.Graph'>)>"
      ]
     },
     "execution_count": 6,
     "metadata": {},
     "output_type": "execute_result"
    }
   ],
   "source": [
    "from rdflib import Graph, Namespace, URIRef, Literal, BNode\n",
    "from rdflib.namespace import RDF, RDFS, OWL, XSD, SKOS, NamespaceManager\n",
    "import os\n",
    "\n",
    "g = Graph()\n",
    "g.parse('ttl/ThesaurusInferred.owl')"
   ]
  },
  {
   "cell_type": "code",
   "execution_count": 16,
   "id": "c6eaa6ba-1619-422e-82f8-b9f655860000",
   "metadata": {},
   "outputs": [],
   "source": [
    "entities = []\n",
    "relations = []\n",
    "for s,p,o in g.triples((None,RDF.type,OWL.Class)):\n",
    "    for _,_,l in g.triples((s,RDFS.label,None)):\n",
    "        entities.append(l)     \n",
    "domain = \"\"\n",
    "range = \"\"\n",
    "for s,p,o in g.triples((None,RDF.type,OWL.ObjectProperty)):\n",
    "    for _,_,l in g.triples((s,RDFS.label,None)):\n",
    "        relation = l\n",
    "    for _,_,d in g.triples((s,RDFS.domain,None)):\n",
    "        for _,_,l in g.triples((d,RDFS.label,None)):\n",
    "            domain = l\n",
    "    for _,_,r in g.triples((s,RDFS.range, None)):\n",
    "        for _,_,l in g.triples((r,RDFS.label,None)):\n",
    "            range = l\n",
    "    relations.append(f\"{relation}({domain},{range})\")\n",
    "\n",
    "for s,p,o in g.triples((None,RDF.type,OWL.DatatypeProperty)):\n",
    "    for _,_,l in g.triples((s,RDFS.label,l)):\n",
    "        relation = l\n",
    "    for _,_,d in g.triples((s,RDFS.domain,None)):\n",
    "        for _,_,l in g.triples((d,RDFS.label,None)):\n",
    "            domain = l\n",
    "    for _,_,r in g.triples((s,RDFS.range, None)):\n",
    "        for _,_,l in g.triples((r,RDFS.label,None)):\n",
    "            range = l\n",
    "    relations.append(f\"{relation}({domain},{range})\")\n"
   ]
  },
  {
   "cell_type": "code",
   "execution_count": 17,
   "id": "3458702c-d902-4b72-9f2f-2db9c322a212",
   "metadata": {},
   "outputs": [
    {
     "data": {
      "text/plain": [
       "184165"
      ]
     },
     "execution_count": 17,
     "metadata": {},
     "output_type": "execute_result"
    }
   ],
   "source": [
    "len(entities)"
   ]
  },
  {
   "cell_type": "code",
   "execution_count": 19,
   "id": "ae472f63-d2ab-4ffd-af5c-ab7ef99f1014",
   "metadata": {},
   "outputs": [
    {
     "data": {
      "text/plain": [
       "['Disease_Has_Associated_Anatomic_Site(Disease, Disorder or Finding,Anatomic Structure, System, or Substance)',\n",
       " 'Disease_Has_Primary_Anatomic_Site(Disease, Disorder or Finding,Anatomic Structure, System, or Substance)',\n",
       " 'Disease_Has_Metastatic_Anatomic_Site(Disease, Disorder or Finding,Anatomic Structure, System, or Substance)',\n",
       " 'Disease_Has_Normal_Tissue_Origin(Disease, Disorder or Finding,Anatomic Structure, System, or Substance)',\n",
       " 'Disease_Has_Normal_Cell_Origin(Disease, Disorder or Finding,Anatomic Structure, System, or Substance)',\n",
       " 'Disease_Has_Abnormal_Cell(Disease, Disorder or Finding,Abnormal Cell)',\n",
       " 'Disease_Has_Molecular_Abnormality(Disease, Disorder or Finding,Molecular Abnormality)',\n",
       " 'Disease_Has_Cytogenetic_Abnormality(Disease, Disorder or Finding,Molecular Abnormality)',\n",
       " 'Disease_Has_Finding(Disease, Disorder or Finding,Disease, Disorder or Finding)',\n",
       " 'Disease_Is_Grade(Disease, Disorder or Finding,Property or Attribute)',\n",
       " 'Disease_May_Have_Normal_Tissue_Origin(Disease, Disorder or Finding,Anatomic Structure, System, or Substance)',\n",
       " 'Disease_May_Have_Normal_Cell_Origin(Disease, Disorder or Finding,Anatomic Structure, System, or Substance)',\n",
       " 'Disease_May_Have_Abnormal_Cell(Disease, Disorder or Finding,Abnormal Cell)',\n",
       " 'Disease_May_Have_Cytogenetic_Abnormality(Disease, Disorder or Finding,Molecular Abnormality)',\n",
       " 'Disease_May_Have_Finding(Disease, Disorder or Finding,Disease, Disorder or Finding)',\n",
       " 'Disease_May_Have_Associated_Disease(Disease, Disorder or Finding,Disease, Disorder or Finding)',\n",
       " 'Chemical_Or_Drug_Is_Metabolized_By_Enzyme(Drug, Food, Chemical or Biomedical Material,Gene Product)',\n",
       " 'Chemotherapy_Regimen_Has_Component(Chemotherapy Regimen or Agent Combination,Drug, Food, Chemical or Biomedical Material)',\n",
       " 'Chemical_Or_Drug_Has_Mechanism_Of_Action(Drug, Food, Chemical or Biomedical Material,Biological Process)',\n",
       " 'Chemical_Or_Drug_Has_Physiologic_Effect(Drug, Food, Chemical or Biomedical Material,Biological Process)',\n",
       " 'Disease_Has_Associated_Disease(Disease, Disorder or Finding,Disease, Disorder or Finding)',\n",
       " 'Gene_Is_Element_In_Pathway(Gene,Biochemical Pathway)',\n",
       " 'Gene_Product_Is_Element_In_Pathway(Gene Product,Biochemical Pathway)',\n",
       " 'Gene_Has_Abnormality(Gene,Molecular Abnormality)',\n",
       " 'Gene_Product_Has_Abnormality(Gene Product,Molecular Abnormality)',\n",
       " 'Disease_Excludes_Primary_Anatomic_Site(Disease, Disorder or Finding,Anatomic Structure, System, or Substance)',\n",
       " 'Disease_Excludes_Metastatic_Anatomic_Site(Disease, Disorder or Finding,Anatomic Structure, System, or Substance)',\n",
       " 'Disease_Excludes_Normal_Tissue_Origin(Disease, Disorder or Finding,Anatomic Structure, System, or Substance)',\n",
       " 'Disease_Excludes_Normal_Cell_Origin(Disease, Disorder or Finding,Anatomic Structure, System, or Substance)',\n",
       " 'Disease_Excludes_Abnormal_Cell(Disease, Disorder or Finding,Abnormal Cell)',\n",
       " 'Disease_Excludes_Molecular_Abnormality(Disease, Disorder or Finding,Molecular Abnormality)',\n",
       " 'Disease_Excludes_Cytogenetic_Abnormality(Disease, Disorder or Finding,Molecular Abnormality)',\n",
       " 'Disease_Excludes_Finding(Disease, Disorder or Finding,Disease, Disorder or Finding)',\n",
       " 'Gene_Has_Physical_Location(Gene,Anatomic Structure, System, or Substance)',\n",
       " 'Chemical_Or_Drug_Affects_Gene_Product(Drug, Food, Chemical or Biomedical Material,Gene Product)',\n",
       " 'Chemical_Or_Drug_Affects_Abnormal_Cell(Drug, Food, Chemical or Biomedical Material,Abnormal Cell)',\n",
       " 'Allele_Has_Abnormality(Drug, Food, Chemical or Biomedical Material,Abnormal Cell)',\n",
       " 'Allele_In_Chromosomal_Location(Drug, Food, Chemical or Biomedical Material,Abnormal Cell)',\n",
       " 'Allele_Absent_From_Wild-type_Chromosomal_Location(Drug, Food, Chemical or Biomedical Material,Abnormal Cell)',\n",
       " 'Allele_Plays_Altered_Role_In_Process(Drug, Food, Chemical or Biomedical Material,Abnormal Cell)',\n",
       " 'Allele_Has_Activity(Gene,Property or Attribute)',\n",
       " 'Allele_Plays_Role_In_Metabolism_Of_Chemical_Or_Drug(Gene,Drug, Food, Chemical or Biomedical Material)',\n",
       " 'Procedure_Has_Target_Anatomy(Activity,Anatomic Structure, System, or Substance)',\n",
       " 'Procedure_Has_Imaged_Anatomy(Activity,Anatomic Structure, System, or Substance)',\n",
       " 'Procedure_May_Have_Excised_Anatomy(Activity,Anatomic Structure, System, or Substance)',\n",
       " 'Procedure_Has_Excised_Anatomy(Activity,Anatomic Structure, System, or Substance)',\n",
       " 'Procedure_May_Have_Partially_Excised_Anatomy(Activity,Anatomic Structure, System, or Substance)',\n",
       " 'Procedure_Has_Partially_Excised_Anatomy(Activity,Anatomic Structure, System, or Substance)',\n",
       " 'Procedure_May_Have_Completely_Excised_Anatomy(Activity,Anatomic Structure, System, or Substance)',\n",
       " 'Procedure_Has_Completely_Excised_Anatomy(Activity,Anatomic Structure, System, or Substance)',\n",
       " 'Regimen_Has_Accepted_Use_For_Disease(Chemotherapy Regimen or Agent Combination,Disease, Disorder or Finding)',\n",
       " 'Cytogenetic_Abnormality_Involves_Chromosome(Cytogenetic Abnormality,Chromosome)',\n",
       " 'Disease_Mapped_To_Chromosome(Disease, Disorder or Finding,Chromosome)',\n",
       " 'Gene_Involved_In_Pathogenesis_Of_Disease(Gene,Disease or Disorder)',\n",
       " 'Disease_Mapped_To_Gene(Disease, Disorder or Finding,Gene)',\n",
       " 'Molecular_Abnormality_Involves_Gene(Molecular Abnormality,Gene)',\n",
       " 'Gene_Mutant_Encodes_Gene_Product_Sequence_Variation(Gene Variant,Gene Product Sequence Variation)',\n",
       " 'Gene_Product_Sequence_Variation_Encoded_By_Gene_Mutant(Gene Product Sequence Variation,Gene Variant)',\n",
       " 'Procedure_Has_Target_Disease(Activity,Disease, Disorder or Finding)',\n",
       " 'Procedure_Uses_Manufactured_Object(Activity,Manufactured Object)',\n",
       " 'Gene_Product_Variant_Of_Gene_Product(Gene Product Sequence Variation,Gene Product)',\n",
       " 'EO_Disease_Has_Associated_Cell_Type(Experimental Organism Diagnosis,Experimental Organism Anatomical Concept)',\n",
       " 'EO_Disease_Maps_To_Human_Disease(Experimental Organism Diagnosis,Disease, Disorder or Finding)',\n",
       " 'EO_Disease_Has_Associated_EO_Anatomy(Experimental Organism Diagnosis,Experimental Organism Anatomical Concept)',\n",
       " 'EO_Disease_Has_Property_Or_Attribute(Experimental Organism Diagnosis,Property or Attribute)',\n",
       " 'Conceptual_Part_Of(Conceptual Entity,Conceptual Entity)',\n",
       " 'Biological_Process_Has_Initiator_Process(Biological Process,Biological Process)',\n",
       " 'Biological_Process_Has_Result_Chemical_Or_Drug(Biological Process,Drug, Food, Chemical or Biomedical Material)',\n",
       " 'Biological_Process_Has_Associated_Location(Biological Process,Anatomic Structure, System, or Substance)',\n",
       " 'Biological_Process_Has_Result_Anatomy(Biological Process,Anatomic Structure, System, or Substance)',\n",
       " 'Biological_Process_Has_Initiator_Chemical_Or_Drug(Biological Process,Drug, Food, Chemical or Biomedical Material)',\n",
       " 'Biological_Process_Has_Result_Biological_Process(Biological Process,Biological Process)',\n",
       " 'Biological_Process_Is_Part_Of_Process(Biological Process,Biological Process)',\n",
       " 'Gene_Is_Biomarker_Type(Gene,Diagnostic or Prognostic Factor)',\n",
       " 'Gene_Plays_Role_In_Process(Gene,Biological Process)',\n",
       " 'Gene_Associated_With_Disease(Gene,Disease, Disorder or Finding)',\n",
       " 'Gene_Is_Biomarker_Of(Gene,Disease, Disorder or Finding)',\n",
       " 'Gene_In_Chromosomal_Location(Gene,Anatomic Structure, System, or Substance)',\n",
       " 'Gene_Found_In_Organism(Gene,Organism)',\n",
       " 'Gene_Product_Is_Biomarker_Type(Gene Product,Diagnostic or Prognostic Factor)',\n",
       " 'Gene_Product_Has_Chemical_Classification(Gene Product,Gene Product)',\n",
       " 'Gene_Product_Has_Organism_Source(Gene Product,Organism)',\n",
       " 'Gene_Product_Has_Associated_Anatomy(Gene Product,Anatomic Structure, System, or Substance)',\n",
       " 'Gene_Product_Is_Biomarker_Of(Gene Product,Disease, Disorder or Finding)',\n",
       " 'Gene_Product_Malfunction_Associated_With_Disease(Gene Product,Disease, Disorder or Finding)',\n",
       " 'Gene_Product_Expressed_In_Tissue(Gene Product,Anatomic Structure, System, or Substance)',\n",
       " 'Gene_Product_Has_Structural_Domain_Or_Motif(Gene Product,Anatomic Structure, System, or Substance)',\n",
       " 'Gene_Product_Is_Physical_Part_Of(Gene Product,Gene Product)',\n",
       " 'Gene_Product_Has_Biochemical_Function(Gene Product,Gene Product)',\n",
       " 'Gene_Product_Plays_Role_In_Biological_Process(Gene Product,Biological Process)',\n",
       " 'Gene_Product_Encoded_By_Gene(Gene Product,Gene)',\n",
       " 'Chemical_Or_Drug_Plays_Role_In_Biological_Process(Drug, Food, Chemical or Biomedical Material,Biological Process)',\n",
       " 'Chemical_Or_Drug_Affects_Cell_Type_Or_Tissue(Drug, Food, Chemical or Biomedical Material,Anatomic Structure, System, or Substance)',\n",
       " 'Anatomic_Structure_Has_Location(Anatomic Structure, System, or Substance,Anatomic Structure, System, or Substance)',\n",
       " 'Anatomic_Structure_Is_Physical_Part_Of(Anatomic Structure, System, or Substance,Anatomic Structure, System, or Substance)',\n",
       " 'Disease_Is_Stage(Disease, Disorder or Finding,Property or Attribute)',\n",
       " 'Disease_May_Have_Molecular_Abnormality(Disease, Disorder or Finding,Molecular Abnormality)']"
      ]
     },
     "execution_count": 19,
     "metadata": {},
     "output_type": "execute_result"
    }
   ],
   "source": [
    "relations"
   ]
  },
  {
   "cell_type": "code",
   "execution_count": 20,
   "id": "5f1b96e9-df4f-4a41-ba88-b057e0307fda",
   "metadata": {},
   "outputs": [],
   "source": [
    "text_sentence = \"\"\"\n",
    "Can we reduce different cancers to a set of common traits? \n",
    "\"\"\""
   ]
  },
  {
   "cell_type": "code",
   "execution_count": 26,
   "id": "d14ce06f-d7f9-4fb4-977e-e96820a0273b",
   "metadata": {},
   "outputs": [],
   "source": [
    "prompt = f\"\"\"\n",
    "Given the following ontology relations and sentences, please extract the triples from the sentence according to the relations in the ontology. \n",
    "In the output, use the information from the extracted triples, and generate an answer to the question: {text_sentence} \n",
    "in the given Example Output format.\n",
    "\n",
    "CONTEXT:\n",
    "\n",
    "Ontology Relations: {relations}\n",
    "\n",
    "Example Sentence: How can knowing the mutations that cause a patient's cancer shape treatment?\n",
    "\n",
    "Example Output: Scientists have spent decades learning the precise genetic mutations \n",
    "that can cause a cell to start dividing uncontrollably. Cancer patients can now have \n",
    "their tumors sequenced to identify the genetic root of their disease—and we have \n",
    "targeted treatments for many of these genetic alterations—but we are still very much \n",
    "in the early years of making the most of genomic data.\n",
    "\"\"\""
   ]
  },
  {
   "cell_type": "code",
   "execution_count": 27,
   "id": "7a7cf1ab-9e36-4e61-900a-cefaa480c6ca",
   "metadata": {},
   "outputs": [],
   "source": [
    "from openai import OpenAI\n",
    "client = OpenAI()\n",
    "response = client.chat.completions.create(\n",
    "  model=\"gpt-4o-mini\",\n",
    "  messages=[\n",
    "    {\"role\": \"system\", \"content\": prompt},\n",
    "    {\"role\": \"user\", \"content\": text_sentence},\n",
    "  ]\n",
    ")"
   ]
  },
  {
   "cell_type": "code",
   "execution_count": 28,
   "id": "047bb96a-24cf-4e60-93c3-55bacc4cb7ea",
   "metadata": {},
   "outputs": [
    {
     "name": "stdout",
     "output_type": "stream",
     "text": [
      "Scientists are investigating the various traits that different cancers share. Research has shown that certain molecular abnormalities and genetic mutations can be common across various cancer types. By identifying these shared characteristics, it may be possible to develop standardized treatment approaches that target these common traits. Thus, understanding the underlying similarities can lead researchers closer to a unified model for cancer treatment.\n"
     ]
    }
   ],
   "source": [
    "print(response.choices[0].message.content)"
   ]
  },
  {
   "cell_type": "code",
   "execution_count": null,
   "id": "61f1d769-aca4-49b0-8fc5-1c758eacc8cc",
   "metadata": {},
   "outputs": [],
   "source": [
    "In 2000, researchers Robert Weinberg and Douglas Hanahan proposed the \"Hallmarks of Cancer\" in a landmark Cell review. Their short list of underlying principles \n",
    "that define a cancer includes evasion of cell death, the ability to grow self-sufficiently, insensitivity to antigrowth signals, tissue invasion and metastasis, \n",
    "limitless cell division potential, and the development of blood vessels.\n",
    "Since the paper (which is the most-downloaded and most-cited paper ever published in Cell) was published, new studies have added two emerging hallmarks—abnormal \n",
    "cell metabolism and evasion of the immune system. \n",
    "\"The notion that cancer was a single disease (as might be concluded from the notion of a common set of hallmarks) was of course an illusion,\" says Weinberg, who \n",
    "studies the molecular mechanisms of cancer at the Whitehead Institute of Biomedical Research and MIT. \"While the general principles of cancer formation may extend \n",
    "widely over many tumor types, the detailed behaviors of cancer cause each tumor to be a unique entity—a unique invention of nature.\" "
   ]
  }
 ],
 "metadata": {
  "kernelspec": {
   "display_name": "Python 3 (ipykernel)",
   "language": "python",
   "name": "python3"
  },
  "language_info": {
   "codemirror_mode": {
    "name": "ipython",
    "version": 3
   },
   "file_extension": ".py",
   "mimetype": "text/x-python",
   "name": "python",
   "nbconvert_exporter": "python",
   "pygments_lexer": "ipython3",
   "version": "3.11.2"
  }
 },
 "nbformat": 4,
 "nbformat_minor": 5
}
