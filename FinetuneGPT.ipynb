{
 "cells": [
  {
   "cell_type": "code",
   "execution_count": 1,
   "id": "cdc6d242-75a0-43f0-87f7-867a9bae277c",
   "metadata": {},
   "outputs": [],
   "source": [
    "from llama_index import SimpleDirectoryReader, GPTVectorStoreIndex, \\\n",
    "                        LLMPredictor, PromptHelper, StorageContext, load_index_from_storage\n",
    "from langchain import OpenAI"
   ]
  },
  {
   "cell_type": "code",
   "execution_count": null,
   "id": "70803a98-9a17-4289-93be-611e94cc2962",
   "metadata": {},
   "outputs": [],
   "source": [
    "import logging\n",
    "import sys\n",
    "\n",
    "logging.basicConfig(stream=sys.stdout, level=logging.DEBUG)\n",
    "logging.getLogger().addHandler(logging.StreamHandler(stream=sys.stdout))"
   ]
  },
  {
   "cell_type": "code",
   "execution_count": 2,
   "id": "0f759c4d-9443-48df-bf59-56746e3229b0",
   "metadata": {},
   "outputs": [],
   "source": [
    "def index_documents(folder):\n",
    "    max_input_size    = 4096\n",
    "    num_outputs       = 512\n",
    "    max_chunk_overlap = 20\n",
    "    chunk_size_limit  = 600\n",
    "\n",
    "    prompt_helper = PromptHelper(max_input_size, \n",
    "                                 num_outputs, \n",
    "                                 max_chunk_overlap, \n",
    "                                 chunk_size_limit = chunk_size_limit)\n",
    "    \n",
    "    llm_predictor = LLMPredictor(\n",
    "        llm = OpenAI(temperature = 0, \n",
    "                         model_name = \"text-davinci-003\", \n",
    "                         max_tokens = num_outputs)\n",
    "        )\n",
    "#gpt-3.5-turbo\"\n",
    "    documents = SimpleDirectoryReader(folder).load_data()\n",
    "\n",
    "    index = GPTVectorStoreIndex.from_documents(\n",
    "                documents, \n",
    "                llm_predictor = llm_predictor, \n",
    "                prompt_helper = prompt_helper)\n",
    "\n",
    "    index.storage_context.persist(persist_dir=\".\") # save in current directory\n",
    "\n",
    "def load_index():\n",
    "    # load the index from vector_store.json\n",
    "    storage_context = StorageContext.from_defaults(persist_dir=\".\")\n",
    "    index = load_index_from_storage(storage_context)\n",
    "    return index\n",
    "    \n",
    "def my_GPT(input_text, index):\n",
    "    # create a query engine to ask question\n",
    "    query_engine = index.as_query_engine()\n",
    "    response = query_engine.query(input_text)\n",
    "    return response.response"
   ]
  },
  {
   "cell_type": "code",
   "execution_count": 3,
   "id": "638e8378-74c0-455c-8156-25a022cdd5bd",
   "metadata": {},
   "outputs": [],
   "source": [
    "index_documents(\"training_documents\")"
   ]
  },
  {
   "cell_type": "code",
   "execution_count": 4,
   "id": "7bdfe043-d6e2-4d40-a7e2-08a05438875b",
   "metadata": {},
   "outputs": [],
   "source": [
    "index = load_index()"
   ]
  },
  {
   "cell_type": "code",
   "execution_count": 5,
   "id": "0e63514b-f3a4-4dba-9048-8d2af7c749f9",
   "metadata": {},
   "outputs": [
    {
     "name": "stdin",
     "output_type": "stream",
     "text": [
      "User:  Act like an expert sparql developer and write a query for the following: which principal investigators have studied interventions for the condition COPD?\n"
     ]
    },
    {
     "name": "stdout",
     "output_type": "stream",
     "text": [
      "Agent: \n",
      "PREFIX rdf: <http://www.w3.org/1999/02/22-rdf-syntax-ns#>\n",
      "PREFIX rdfs: <http://www.w3.org/2000/01/rdf-schema#>\n",
      "PREFIX skos: <http://www.w3.org/2004/02/skos/core#>\n",
      "PREFIX owl: <http://www.w3.org/2002/07/owl#>\n",
      "PREFIX xsd: <http://www.w3.org/2001/XMLSchema#>\n",
      "\n",
      "SELECT ?PrincipalInvestigator\n",
      "WHERE {\n",
      "  ?Condition skos:prefLabel \"COPD\" .\n",
      "  ?Intervention skos:prefLabel \"treats\" .\n",
      "  ?Intervention rdfs:range ?Condition .\n",
      "  ?PrincipalInvestigator skos:prefLabel \"supervises\" .\n",
      "  ?PrincipalInvestigator rdfs:domain ?Intervention .\n",
      "}\n",
      "\n"
     ]
    },
    {
     "name": "stdin",
     "output_type": "stream",
     "text": [
      "User:  Act like an expert sparql developer and write a query for the following: which principal investigators have studied interventions for the condition COPD?\n"
     ]
    },
    {
     "name": "stdout",
     "output_type": "stream",
     "text": [
      "Agent: \n",
      "PREFIX rdf: <http://www.w3.org/1999/02/22-rdf-syntax-ns#>\n",
      "PREFIX rdfs: <http://www.w3.org/2000/01/rdf-schema#>\n",
      "PREFIX skos: <http://www.w3.org/2004/02/skos/core#>\n",
      "PREFIX owl: <http://www.w3.org/2002/07/owl#>\n",
      "PREFIX xsd: <http://www.w3.org/2001/XMLSchema#>\n",
      "\n",
      "SELECT ?PrincipalInvestigator\n",
      "WHERE {\n",
      "  ?Condition skos:prefLabel \"COPD\" .\n",
      "  ?Intervention skos:prefLabel \"treats\" .\n",
      "  ?Intervention rdfs:range ?Condition .\n",
      "  ?Study skos:prefLabel \"supervises\" .\n",
      "  ?Study rdfs:domain ?Intervention .\n",
      "  ?PrincipalInvestigator skos:prefLabel \"submits protocol to\" .\n",
      "  ?PrincipalInvestigator rdfs:range ?Study\n",
      "\n"
     ]
    },
    {
     "ename": "KeyboardInterrupt",
     "evalue": "Interrupted by user",
     "output_type": "error",
     "traceback": [
      "\u001b[1;31m---------------------------------------------------------------------------\u001b[0m",
      "\u001b[1;31mKeyboardInterrupt\u001b[0m                         Traceback (most recent call last)",
      "Cell \u001b[1;32mIn[5], line 2\u001b[0m\n\u001b[0;32m      1\u001b[0m \u001b[38;5;28;01mwhile\u001b[39;00m \u001b[38;5;28;01mTrue\u001b[39;00m:\n\u001b[1;32m----> 2\u001b[0m     prompt \u001b[38;5;241m=\u001b[39m \u001b[38;5;28;43minput\u001b[39;49m\u001b[43m(\u001b[49m\u001b[38;5;124;43m\"\u001b[39;49m\u001b[38;5;124;43mUser: \u001b[39;49m\u001b[38;5;124;43m\"\u001b[39;49m\u001b[43m)\u001b[49m\n\u001b[0;32m      3\u001b[0m     response \u001b[38;5;241m=\u001b[39m my_GPT(prompt, index)\n\u001b[0;32m      4\u001b[0m     \u001b[38;5;28mprint\u001b[39m(\u001b[38;5;124mf\u001b[39m\u001b[38;5;124m'\u001b[39m\u001b[38;5;124mAgent: \u001b[39m\u001b[38;5;132;01m{\u001b[39;00mresponse\u001b[38;5;132;01m}\u001b[39;00m\u001b[38;5;130;01m\\n\u001b[39;00m\u001b[38;5;124m'\u001b[39m)\n",
      "File \u001b[1;32mC:\\Programs\\Python\\Python311\\Lib\\site-packages\\ipykernel\\kernelbase.py:1191\u001b[0m, in \u001b[0;36mKernel.raw_input\u001b[1;34m(self, prompt)\u001b[0m\n\u001b[0;32m   1189\u001b[0m     msg \u001b[38;5;241m=\u001b[39m \u001b[38;5;124m\"\u001b[39m\u001b[38;5;124mraw_input was called, but this frontend does not support input requests.\u001b[39m\u001b[38;5;124m\"\u001b[39m\n\u001b[0;32m   1190\u001b[0m     \u001b[38;5;28;01mraise\u001b[39;00m StdinNotImplementedError(msg)\n\u001b[1;32m-> 1191\u001b[0m \u001b[38;5;28;01mreturn\u001b[39;00m \u001b[38;5;28;43mself\u001b[39;49m\u001b[38;5;241;43m.\u001b[39;49m\u001b[43m_input_request\u001b[49m\u001b[43m(\u001b[49m\n\u001b[0;32m   1192\u001b[0m \u001b[43m    \u001b[49m\u001b[38;5;28;43mstr\u001b[39;49m\u001b[43m(\u001b[49m\u001b[43mprompt\u001b[49m\u001b[43m)\u001b[49m\u001b[43m,\u001b[49m\n\u001b[0;32m   1193\u001b[0m \u001b[43m    \u001b[49m\u001b[38;5;28;43mself\u001b[39;49m\u001b[38;5;241;43m.\u001b[39;49m\u001b[43m_parent_ident\u001b[49m\u001b[43m[\u001b[49m\u001b[38;5;124;43m\"\u001b[39;49m\u001b[38;5;124;43mshell\u001b[39;49m\u001b[38;5;124;43m\"\u001b[39;49m\u001b[43m]\u001b[49m\u001b[43m,\u001b[49m\n\u001b[0;32m   1194\u001b[0m \u001b[43m    \u001b[49m\u001b[38;5;28;43mself\u001b[39;49m\u001b[38;5;241;43m.\u001b[39;49m\u001b[43mget_parent\u001b[49m\u001b[43m(\u001b[49m\u001b[38;5;124;43m\"\u001b[39;49m\u001b[38;5;124;43mshell\u001b[39;49m\u001b[38;5;124;43m\"\u001b[39;49m\u001b[43m)\u001b[49m\u001b[43m,\u001b[49m\n\u001b[0;32m   1195\u001b[0m \u001b[43m    \u001b[49m\u001b[43mpassword\u001b[49m\u001b[38;5;241;43m=\u001b[39;49m\u001b[38;5;28;43;01mFalse\u001b[39;49;00m\u001b[43m,\u001b[49m\n\u001b[0;32m   1196\u001b[0m \u001b[43m\u001b[49m\u001b[43m)\u001b[49m\n",
      "File \u001b[1;32mC:\\Programs\\Python\\Python311\\Lib\\site-packages\\ipykernel\\kernelbase.py:1234\u001b[0m, in \u001b[0;36mKernel._input_request\u001b[1;34m(self, prompt, ident, parent, password)\u001b[0m\n\u001b[0;32m   1231\u001b[0m \u001b[38;5;28;01mexcept\u001b[39;00m \u001b[38;5;167;01mKeyboardInterrupt\u001b[39;00m:\n\u001b[0;32m   1232\u001b[0m     \u001b[38;5;66;03m# re-raise KeyboardInterrupt, to truncate traceback\u001b[39;00m\n\u001b[0;32m   1233\u001b[0m     msg \u001b[38;5;241m=\u001b[39m \u001b[38;5;124m\"\u001b[39m\u001b[38;5;124mInterrupted by user\u001b[39m\u001b[38;5;124m\"\u001b[39m\n\u001b[1;32m-> 1234\u001b[0m     \u001b[38;5;28;01mraise\u001b[39;00m \u001b[38;5;167;01mKeyboardInterrupt\u001b[39;00m(msg) \u001b[38;5;28;01mfrom\u001b[39;00m \u001b[38;5;28;01mNone\u001b[39;00m\n\u001b[0;32m   1235\u001b[0m \u001b[38;5;28;01mexcept\u001b[39;00m \u001b[38;5;167;01mException\u001b[39;00m:\n\u001b[0;32m   1236\u001b[0m     \u001b[38;5;28mself\u001b[39m\u001b[38;5;241m.\u001b[39mlog\u001b[38;5;241m.\u001b[39mwarning(\u001b[38;5;124m\"\u001b[39m\u001b[38;5;124mInvalid Message:\u001b[39m\u001b[38;5;124m\"\u001b[39m, exc_info\u001b[38;5;241m=\u001b[39m\u001b[38;5;28;01mTrue\u001b[39;00m)\n",
      "\u001b[1;31mKeyboardInterrupt\u001b[0m: Interrupted by user"
     ]
    }
   ],
   "source": [
    "while True:\n",
    "    prompt = input(\"User: \")\n",
    "    response = my_GPT(prompt, index)\n",
    "    print(f'Agent: {response}\\n')\n"
   ]
  },
  {
   "cell_type": "code",
   "execution_count": null,
   "id": "91d95bbb-c384-430c-9d7b-214c388b6187",
   "metadata": {},
   "outputs": [],
   "source": []
  }
 ],
 "metadata": {
  "kernelspec": {
   "display_name": "Python 3 (ipykernel)",
   "language": "python",
   "name": "python3"
  },
  "language_info": {
   "codemirror_mode": {
    "name": "ipython",
    "version": 3
   },
   "file_extension": ".py",
   "mimetype": "text/x-python",
   "name": "python",
   "nbconvert_exporter": "python",
   "pygments_lexer": "ipython3",
   "version": "3.11.2"
  }
 },
 "nbformat": 4,
 "nbformat_minor": 5
}
