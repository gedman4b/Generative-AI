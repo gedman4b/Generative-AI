{
 "cells": [
  {
   "cell_type": "markdown",
   "id": "6046c8b1-6a65-49a9-a30a-f9b9074f38c9",
   "metadata": {},
   "source": [
    "## Fine Tuning OpenAI GPT4o-mini model with Clinical Studies Data from Clinical Trials.GOV"
   ]
  },
  {
   "cell_type": "code",
   "execution_count": 16,
   "id": "b0d4f0b9-5e70-4272-82f3-58c9a983edc9",
   "metadata": {},
   "outputs": [],
   "source": [
    "import json\n",
    "import os\n",
    "import pandas as pd\n",
    "from pprint import pprint\n",
    "import openai\n",
    "\n",
    "client = openai.OpenAI(\n",
    "    api_key=os.environ.get(\"OPENAI_API_KEY\"),\n",
    "    organization=os.environ.get(\"OPENAI_API_ORG_KEY\"),\n",
    "    project=os.environ.get(\"OPENAI_API_PROJ_KEY\"),\n",
    ")"
   ]
  },
  {
   "cell_type": "markdown",
   "id": "5899ad50-c693-40af-b1d9-47d5dec5bd61",
   "metadata": {},
   "source": [
    "### Read in Dataset"
   ]
  },
  {
   "cell_type": "code",
   "execution_count": 4,
   "id": "3e2c0c07-ea3f-493e-a0b4-e17fce47652a",
   "metadata": {},
   "outputs": [
    {
     "data": {
      "text/html": [
       "<div>\n",
       "<style scoped>\n",
       "    .dataframe tbody tr th:only-of-type {\n",
       "        vertical-align: middle;\n",
       "    }\n",
       "\n",
       "    .dataframe tbody tr th {\n",
       "        vertical-align: top;\n",
       "    }\n",
       "\n",
       "    .dataframe thead th {\n",
       "        text-align: right;\n",
       "    }\n",
       "</style>\n",
       "<table border=\"1\" class=\"dataframe\">\n",
       "  <thead>\n",
       "    <tr style=\"text-align: right;\">\n",
       "      <th></th>\n",
       "      <th>nct_id</th>\n",
       "      <th>title</th>\n",
       "      <th>phase</th>\n",
       "      <th>submitted_date</th>\n",
       "      <th>condition</th>\n",
       "      <th>facility</th>\n",
       "      <th>country</th>\n",
       "      <th>eligible_crtieria</th>\n",
       "    </tr>\n",
       "  </thead>\n",
       "  <tbody>\n",
       "    <tr>\n",
       "      <th>0</th>\n",
       "      <td>NCT03657433</td>\n",
       "      <td>Intravenous Infusions of Ferumoxytol Compared ...</td>\n",
       "      <td>Phase 3</td>\n",
       "      <td>2022-09-05</td>\n",
       "      <td>Iron Deficiency Anemia of Pregnancy</td>\n",
       "      <td>University of Arizona</td>\n",
       "      <td>United States</td>\n",
       "      <td>Inclusion Criteria:\\n\\nMaternal age &gt;/= 18\\nSi...</td>\n",
       "    </tr>\n",
       "    <tr>\n",
       "      <th>1</th>\n",
       "      <td>NCT00078949</td>\n",
       "      <td>Chemotherapy Before Autologous Stem Cell Trans...</td>\n",
       "      <td>Phase 3</td>\n",
       "      <td>2020-03-30</td>\n",
       "      <td>Lymphoma</td>\n",
       "      <td>Rush-Presbyterian-St. Luke's Medical Centre</td>\n",
       "      <td>United States</td>\n",
       "      <td>DISEASE CHARACTERISTICS:\\n\\nHistologically con...</td>\n",
       "    </tr>\n",
       "    <tr>\n",
       "      <th>2</th>\n",
       "      <td>NCT00078949</td>\n",
       "      <td>Chemotherapy Before Autologous Stem Cell Trans...</td>\n",
       "      <td>Phase 3</td>\n",
       "      <td>2020-03-30</td>\n",
       "      <td>Lymphoma</td>\n",
       "      <td>Indiana University Medical Center</td>\n",
       "      <td>United States</td>\n",
       "      <td>DISEASE CHARACTERISTICS:\\n\\nHistologically con...</td>\n",
       "    </tr>\n",
       "    <tr>\n",
       "      <th>3</th>\n",
       "      <td>NCT00078949</td>\n",
       "      <td>Chemotherapy Before Autologous Stem Cell Trans...</td>\n",
       "      <td>Phase 3</td>\n",
       "      <td>2020-03-30</td>\n",
       "      <td>Lymphoma</td>\n",
       "      <td>Hackensack University Medical Center</td>\n",
       "      <td>United States</td>\n",
       "      <td>DISEASE CHARACTERISTICS:\\n\\nHistologically con...</td>\n",
       "    </tr>\n",
       "    <tr>\n",
       "      <th>4</th>\n",
       "      <td>NCT00078949</td>\n",
       "      <td>Chemotherapy Before Autologous Stem Cell Trans...</td>\n",
       "      <td>Phase 3</td>\n",
       "      <td>2020-03-30</td>\n",
       "      <td>Lymphoma</td>\n",
       "      <td>University of Cincinnati, Barrett Cancer Centre</td>\n",
       "      <td>United States</td>\n",
       "      <td>DISEASE CHARACTERISTICS:\\n\\nHistologically con...</td>\n",
       "    </tr>\n",
       "  </tbody>\n",
       "</table>\n",
       "</div>"
      ],
      "text/plain": [
       "        nct_id                                              title    phase  \\\n",
       "0  NCT03657433  Intravenous Infusions of Ferumoxytol Compared ...  Phase 3   \n",
       "1  NCT00078949  Chemotherapy Before Autologous Stem Cell Trans...  Phase 3   \n",
       "2  NCT00078949  Chemotherapy Before Autologous Stem Cell Trans...  Phase 3   \n",
       "3  NCT00078949  Chemotherapy Before Autologous Stem Cell Trans...  Phase 3   \n",
       "4  NCT00078949  Chemotherapy Before Autologous Stem Cell Trans...  Phase 3   \n",
       "\n",
       "  submitted_date                            condition  \\\n",
       "0     2022-09-05  Iron Deficiency Anemia of Pregnancy   \n",
       "1     2020-03-30                             Lymphoma   \n",
       "2     2020-03-30                             Lymphoma   \n",
       "3     2020-03-30                             Lymphoma   \n",
       "4     2020-03-30                             Lymphoma   \n",
       "\n",
       "                                          facility        country  \\\n",
       "0                            University of Arizona  United States   \n",
       "1      Rush-Presbyterian-St. Luke's Medical Centre  United States   \n",
       "2                Indiana University Medical Center  United States   \n",
       "3             Hackensack University Medical Center  United States   \n",
       "4  University of Cincinnati, Barrett Cancer Centre  United States   \n",
       "\n",
       "                                   eligible_crtieria  \n",
       "0  Inclusion Criteria:\\n\\nMaternal age >/= 18\\nSi...  \n",
       "1  DISEASE CHARACTERISTICS:\\n\\nHistologically con...  \n",
       "2  DISEASE CHARACTERISTICS:\\n\\nHistologically con...  \n",
       "3  DISEASE CHARACTERISTICS:\\n\\nHistologically con...  \n",
       "4  DISEASE CHARACTERISTICS:\\n\\nHistologically con...  "
      ]
     },
     "execution_count": 4,
     "metadata": {},
     "output_type": "execute_result"
    }
   ],
   "source": [
    "ctgov_df = pd.read_csv(\"csv/CTGOV_DATA.csv\")\n",
    "\n",
    "ctgov_df.head()"
   ]
  },
  {
   "cell_type": "markdown",
   "id": "1fa19383-2c1e-4508-a966-2ae3619bac50",
   "metadata": {},
   "source": [
    "### Data Preparation"
   ]
  },
  {
   "cell_type": "code",
   "execution_count": 41,
   "id": "826938f8-5a18-4571-bd27-891a2be6a39e",
   "metadata": {},
   "outputs": [
    {
     "name": "stdout",
     "output_type": "stream",
     "text": [
      "{'messages': [{'content': 'You are a helpful clinical trial studies assistant. '\n",
      "                          'You are to extract the clinical trial studies '\n",
      "                          'provided.',\n",
      "               'role': 'system'},\n",
      "              {'content': 'Title: Intravenous Infusions of Ferumoxytol '\n",
      "                          'Compared to Oral Ferrous Sulfate for the Treatment '\n",
      "                          'of Anemia in Pregnancy\\n'\n",
      "                          '\\n'\n",
      "                          'Phase: Phase 3\\n'\n",
      "                          '\\n'\n",
      "                          'Date: 2022-09-05\\n'\n",
      "                          '\\n'\n",
      "                          'Facility: University of Arizona\\n'\n",
      "                          '\\n'\n",
      "                          'Country: United States\\n'\n",
      "                          '\\n'\n",
      "                          'Criteria: Inclusion Criteria:\\n'\n",
      "                          '\\n'\n",
      "                          'Maternal age >/= 18\\n'\n",
      "                          'Singleton gestation\\n'\n",
      "                          '>/=20 weeks gestation, <37 weeks gestation\\n'\n",
      "                          'Hemoglobin <11g/dL and/or hematocrit <33%\\n'\n",
      "                          'Able to read/speak English or Spanish\\n'\n",
      "                          '\\n'\n",
      "                          'Exclusion Criteria:\\n'\n",
      "                          '\\n'\n",
      "                          'Maternal age <18\\n'\n",
      "                          'Multiple gestation\\n'\n",
      "                          '<20 weeks gestation, </= 37 weeks gestation\\n'\n",
      "                          'Hemoglobin >/=11g/dL and/or hematocrit >/=33%\\n'\n",
      "                          'Unable to read or speak English or Spanish\\n'\n",
      "                          'Incarcerated patients\\n'\n",
      "                          '\\n',\n",
      "               'role': 'user'},\n",
      "              {'content': 'Iron Deficiency Anemia of Pregnancy',\n",
      "               'role': 'assistant'}]}\n"
     ]
    }
   ],
   "source": [
    "system_message = \"You are a helpful clinical trial studies assistant. You are to extract the clinical trial studies provided.\"\n",
    "\n",
    "\n",
    "def create_user_message(row):\n",
    "    return f\"Title: {row['title']}\\n\\nPhase: {row['phase']}\\n\\nDate: {row['submitted_date']}\\n\\nFacility: {row['facility']}\\n\\nCountry: {row['country']}\\n\\nCriteria: {row['eligible_crtieria']}\\n\\n\"\n",
    "\n",
    "\n",
    "def prepare_example_conversation(row):\n",
    "    return {\n",
    "        \"messages\": [\n",
    "            {\"role\": \"system\", \"content\": system_message},\n",
    "            {\"role\": \"user\", \"content\": create_user_message(row)},\n",
    "            {\"role\": \"assistant\", \"content\": row[\"condition\"]},\n",
    "        ]\n",
    "    }\n",
    "\n",
    "\n",
    "pprint(prepare_example_conversation(ctgov_df.iloc[0]))"
   ]
  },
  {
   "cell_type": "markdown",
   "id": "43a6f708-54af-4202-bcd0-df8d94471985",
   "metadata": {},
   "source": [
    "### Data Split for Training"
   ]
  },
  {
   "cell_type": "code",
   "execution_count": 18,
   "id": "721753ef-1e6a-429b-bba9-6c535bbd1dfb",
   "metadata": {},
   "outputs": [
    {
     "name": "stdout",
     "output_type": "stream",
     "text": [
      "{'messages': [{'role': 'system', 'content': 'You are a helpful clinical trial studies assistant. You are to extract the clinical trial studies provided.'}, {'role': 'user', 'content': 'Title: Intravenous Infusions of Ferumoxytol Compared to Oral Ferrous Sulfate for the Treatment of Anemia in Pregnancy\\n\\nPhase: Phase 3\\n\\nDate: 2022-09-05\\n\\nFacility: University of Arizona\\n\\nCountry: United States\\n\\nCriteria: Inclusion Criteria:\\n\\nMaternal age >/= 18\\nSingleton gestation\\n>/=20 weeks gestation, <37 weeks gestation\\nHemoglobin <11g/dL and/or hematocrit <33%\\nAble to read/speak English or Spanish\\n\\nExclusion Criteria:\\n\\nMaternal age <18\\nMultiple gestation\\n<20 weeks gestation, </= 37 weeks gestation\\nHemoglobin >/=11g/dL and/or hematocrit >/=33%\\nUnable to read or speak English or Spanish\\nIncarcerated patients\\n\\n'}, {'role': 'assistant', 'content': 'Iron Deficiency Anemia of Pregnancy'}]}\n",
      "{'messages': [{'role': 'system', 'content': 'You are a helpful clinical trial studies assistant. You are to extract the clinical trial studies provided.'}, {'role': 'user', 'content': \"Title: Chemotherapy Before Autologous Stem Cell Transplantation +/- Rituximab in Relapsed or Refractory Aggressive Non-Hodgkin's Lymphoma\\n\\nPhase: Phase 3\\n\\nDate: 2020-03-30\\n\\nFacility: Rush-Presbyterian-St. Luke's Medical Centre\\n\\nCountry: United States\\n\\nCriteria: DISEASE CHARACTERISTICS:\\n\\nHistologically confirmed aggressive non-Hodgkin's lymphoma of 1 of the following subtypes:\\n\\nDiffuse large cell lymphoma (includes primary mediastinal B-cell lymphoma and T-cell-rich B-cell lymphoma)\\n\\nPrior indolent lymphoma (e.g., follicular center cell lymphoma; marginal zone lymphoma, including extranodal mucosa-associated lymphoid tissue [MALT] lymphoma; and lymphoplasmacytoid lymphoma) with transformation to diffuse large B-cell lymphoma at relapse\\n\\nMust be histologically confirmed\\nNo transformed lymphoma at diagnosis with subsequent indolent histology without transformation at relapse\\nPeripheral T-cell lymphoma\\nAnaplastic large cell lymphoma\\nSmall noncleaved Burkitt-like lymphoma\\nT-cell or B-cell lineage confirmed by immunohistochemistry\\n\\nClinically or radiologically documented disease meeting either of the following criteria:\\n\\nMeasurable disease, defined as at least 1 bidimensionally measurable site of disease using clinical exam, CT scan, or MRI\\n\\nLymph nodes must be > 1.5 cm by physical exam or CT scan\\nOther non-nodal lesions must be ≥ 1.0 cm by physical exam, CT scan, or MRI\\nBone lesions are not considered measurable\\n\\nEvaluable disease, defined as only nonmeasurable disease, including any of the following:\\n\\nMarrow infiltration\\nCytology-confirmed ascites or effusions\\nBony involvement\\nEnlarged liver or spleen\\nUnidimensionally measurable intrathoracic or abdominal masses\\nPreviously treated with 1, and only 1, chemotherapy regimen including an anthracycline and excluding cisplatin, cytarabine, and gemcitabine\\n\\nNo uncontrolled CNS involvement by lymphoma\\n\\nNo CNS disease at time of relapse\\nCNS disease diagnosed at initial presentation allowed provided a complete response for CNS disease was achieved and maintained\\n\\nPATIENT CHARACTERISTICS:\\n\\nAge\\n\\n16 to 65\\n\\nPerformance status\\n\\nECOG 0-3\\n\\nLife expectancy\\n\\nAt least 12 weeks\\n\\nHematopoietic\\n\\nAbsolute granulocyte count ≥ 1,000/mm^3\\nPlatelet count ≥ 75,000/mm^3\\n\\nHepatic\\n\\nBilirubin ≤ 1.5 times upper limit of normal (ULN)\\nAST or ALT ≤ 2.5 times ULN (5 times ULN if liver involvement with lymphoma)\\nHepatitis B status known (for patients with a history of hepatitis B or who are at high risk of hepatitis B infection)\\n\\nRenal\\n\\nCreatinine ≤ 1.5 times ULN\\n\\nCardiovascular\\n\\nNo significant cardiac dysfunction or cardiovascular disease\\n\\nOther\\n\\nNot pregnant or nursing\\nNegative pregnancy test\\nFertile patients must use effective contraception\\nWilling to complete quality of life questionnaires\\nHIV negative\\nNo active, uncontrolled bacterial, fungal, or viral infection\\nNo other malignancy within the past 5 years except adequately treated basal cell skin cancer or carcinoma in situ of the cervix\\nNo other concurrent serious illness or medical condition that would preclude study participation\\n\\nPRIOR CONCURRENT THERAPY:\\n\\nBiologic therapy\\n\\nSee Chemotherapy\\nPrior rituximab allowed\\n\\nChemotherapy\\n\\nSee Disease Characteristics\\nAt least 4 weeks since prior IV chemotherapy\\nNo prior high-dose chemotherapy with stem cell transplantation\\n\\nEndocrine therapy\\n\\nNo concurrent corticosteroids except for physiologic replacement\\n\\nRadiotherapy\\n\\nAt least 4 weeks since prior radiotherapy and recovered\\n\\nExceptions may be made for low-dose, non-myelosuppressive radiotherapy\\nNo prior radiotherapy to more than 25% of functioning bone marrow\\nInvolved-field radiotherapy may be given to areas of bulky disease at relapse (≥ 5 cm) after stem cell transplantation, according to the center's policy\\n\\nSurgery\\n\\nAt least 2 weeks since prior major surgery\\n\\nOther\\n\\nNo other concurrent anticancer therapy\\nNo other concurrent experimental agents\\n\\n\"}, {'role': 'assistant', 'content': 'Lymphoma'}]}\n",
      "{'messages': [{'role': 'system', 'content': 'You are a helpful clinical trial studies assistant. You are to extract the clinical trial studies provided.'}, {'role': 'user', 'content': \"Title: Chemotherapy Before Autologous Stem Cell Transplantation +/- Rituximab in Relapsed or Refractory Aggressive Non-Hodgkin's Lymphoma\\n\\nPhase: Phase 3\\n\\nDate: 2020-03-30\\n\\nFacility: Indiana University Medical Center\\n\\nCountry: United States\\n\\nCriteria: DISEASE CHARACTERISTICS:\\n\\nHistologically confirmed aggressive non-Hodgkin's lymphoma of 1 of the following subtypes:\\n\\nDiffuse large cell lymphoma (includes primary mediastinal B-cell lymphoma and T-cell-rich B-cell lymphoma)\\n\\nPrior indolent lymphoma (e.g., follicular center cell lymphoma; marginal zone lymphoma, including extranodal mucosa-associated lymphoid tissue [MALT] lymphoma; and lymphoplasmacytoid lymphoma) with transformation to diffuse large B-cell lymphoma at relapse\\n\\nMust be histologically confirmed\\nNo transformed lymphoma at diagnosis with subsequent indolent histology without transformation at relapse\\nPeripheral T-cell lymphoma\\nAnaplastic large cell lymphoma\\nSmall noncleaved Burkitt-like lymphoma\\nT-cell or B-cell lineage confirmed by immunohistochemistry\\n\\nClinically or radiologically documented disease meeting either of the following criteria:\\n\\nMeasurable disease, defined as at least 1 bidimensionally measurable site of disease using clinical exam, CT scan, or MRI\\n\\nLymph nodes must be > 1.5 cm by physical exam or CT scan\\nOther non-nodal lesions must be ≥ 1.0 cm by physical exam, CT scan, or MRI\\nBone lesions are not considered measurable\\n\\nEvaluable disease, defined as only nonmeasurable disease, including any of the following:\\n\\nMarrow infiltration\\nCytology-confirmed ascites or effusions\\nBony involvement\\nEnlarged liver or spleen\\nUnidimensionally measurable intrathoracic or abdominal masses\\nPreviously treated with 1, and only 1, chemotherapy regimen including an anthracycline and excluding cisplatin, cytarabine, and gemcitabine\\n\\nNo uncontrolled CNS involvement by lymphoma\\n\\nNo CNS disease at time of relapse\\nCNS disease diagnosed at initial presentation allowed provided a complete response for CNS disease was achieved and maintained\\n\\nPATIENT CHARACTERISTICS:\\n\\nAge\\n\\n16 to 65\\n\\nPerformance status\\n\\nECOG 0-3\\n\\nLife expectancy\\n\\nAt least 12 weeks\\n\\nHematopoietic\\n\\nAbsolute granulocyte count ≥ 1,000/mm^3\\nPlatelet count ≥ 75,000/mm^3\\n\\nHepatic\\n\\nBilirubin ≤ 1.5 times upper limit of normal (ULN)\\nAST or ALT ≤ 2.5 times ULN (5 times ULN if liver involvement with lymphoma)\\nHepatitis B status known (for patients with a history of hepatitis B or who are at high risk of hepatitis B infection)\\n\\nRenal\\n\\nCreatinine ≤ 1.5 times ULN\\n\\nCardiovascular\\n\\nNo significant cardiac dysfunction or cardiovascular disease\\n\\nOther\\n\\nNot pregnant or nursing\\nNegative pregnancy test\\nFertile patients must use effective contraception\\nWilling to complete quality of life questionnaires\\nHIV negative\\nNo active, uncontrolled bacterial, fungal, or viral infection\\nNo other malignancy within the past 5 years except adequately treated basal cell skin cancer or carcinoma in situ of the cervix\\nNo other concurrent serious illness or medical condition that would preclude study participation\\n\\nPRIOR CONCURRENT THERAPY:\\n\\nBiologic therapy\\n\\nSee Chemotherapy\\nPrior rituximab allowed\\n\\nChemotherapy\\n\\nSee Disease Characteristics\\nAt least 4 weeks since prior IV chemotherapy\\nNo prior high-dose chemotherapy with stem cell transplantation\\n\\nEndocrine therapy\\n\\nNo concurrent corticosteroids except for physiologic replacement\\n\\nRadiotherapy\\n\\nAt least 4 weeks since prior radiotherapy and recovered\\n\\nExceptions may be made for low-dose, non-myelosuppressive radiotherapy\\nNo prior radiotherapy to more than 25% of functioning bone marrow\\nInvolved-field radiotherapy may be given to areas of bulky disease at relapse (≥ 5 cm) after stem cell transplantation, according to the center's policy\\n\\nSurgery\\n\\nAt least 2 weeks since prior major surgery\\n\\nOther\\n\\nNo other concurrent anticancer therapy\\nNo other concurrent experimental agents\\n\\n\"}, {'role': 'assistant', 'content': 'Lymphoma'}]}\n",
      "{'messages': [{'role': 'system', 'content': 'You are a helpful clinical trial studies assistant. You are to extract the clinical trial studies provided.'}, {'role': 'user', 'content': \"Title: Chemotherapy Before Autologous Stem Cell Transplantation +/- Rituximab in Relapsed or Refractory Aggressive Non-Hodgkin's Lymphoma\\n\\nPhase: Phase 3\\n\\nDate: 2020-03-30\\n\\nFacility: Hackensack University Medical Center\\n\\nCountry: United States\\n\\nCriteria: DISEASE CHARACTERISTICS:\\n\\nHistologically confirmed aggressive non-Hodgkin's lymphoma of 1 of the following subtypes:\\n\\nDiffuse large cell lymphoma (includes primary mediastinal B-cell lymphoma and T-cell-rich B-cell lymphoma)\\n\\nPrior indolent lymphoma (e.g., follicular center cell lymphoma; marginal zone lymphoma, including extranodal mucosa-associated lymphoid tissue [MALT] lymphoma; and lymphoplasmacytoid lymphoma) with transformation to diffuse large B-cell lymphoma at relapse\\n\\nMust be histologically confirmed\\nNo transformed lymphoma at diagnosis with subsequent indolent histology without transformation at relapse\\nPeripheral T-cell lymphoma\\nAnaplastic large cell lymphoma\\nSmall noncleaved Burkitt-like lymphoma\\nT-cell or B-cell lineage confirmed by immunohistochemistry\\n\\nClinically or radiologically documented disease meeting either of the following criteria:\\n\\nMeasurable disease, defined as at least 1 bidimensionally measurable site of disease using clinical exam, CT scan, or MRI\\n\\nLymph nodes must be > 1.5 cm by physical exam or CT scan\\nOther non-nodal lesions must be ≥ 1.0 cm by physical exam, CT scan, or MRI\\nBone lesions are not considered measurable\\n\\nEvaluable disease, defined as only nonmeasurable disease, including any of the following:\\n\\nMarrow infiltration\\nCytology-confirmed ascites or effusions\\nBony involvement\\nEnlarged liver or spleen\\nUnidimensionally measurable intrathoracic or abdominal masses\\nPreviously treated with 1, and only 1, chemotherapy regimen including an anthracycline and excluding cisplatin, cytarabine, and gemcitabine\\n\\nNo uncontrolled CNS involvement by lymphoma\\n\\nNo CNS disease at time of relapse\\nCNS disease diagnosed at initial presentation allowed provided a complete response for CNS disease was achieved and maintained\\n\\nPATIENT CHARACTERISTICS:\\n\\nAge\\n\\n16 to 65\\n\\nPerformance status\\n\\nECOG 0-3\\n\\nLife expectancy\\n\\nAt least 12 weeks\\n\\nHematopoietic\\n\\nAbsolute granulocyte count ≥ 1,000/mm^3\\nPlatelet count ≥ 75,000/mm^3\\n\\nHepatic\\n\\nBilirubin ≤ 1.5 times upper limit of normal (ULN)\\nAST or ALT ≤ 2.5 times ULN (5 times ULN if liver involvement with lymphoma)\\nHepatitis B status known (for patients with a history of hepatitis B or who are at high risk of hepatitis B infection)\\n\\nRenal\\n\\nCreatinine ≤ 1.5 times ULN\\n\\nCardiovascular\\n\\nNo significant cardiac dysfunction or cardiovascular disease\\n\\nOther\\n\\nNot pregnant or nursing\\nNegative pregnancy test\\nFertile patients must use effective contraception\\nWilling to complete quality of life questionnaires\\nHIV negative\\nNo active, uncontrolled bacterial, fungal, or viral infection\\nNo other malignancy within the past 5 years except adequately treated basal cell skin cancer or carcinoma in situ of the cervix\\nNo other concurrent serious illness or medical condition that would preclude study participation\\n\\nPRIOR CONCURRENT THERAPY:\\n\\nBiologic therapy\\n\\nSee Chemotherapy\\nPrior rituximab allowed\\n\\nChemotherapy\\n\\nSee Disease Characteristics\\nAt least 4 weeks since prior IV chemotherapy\\nNo prior high-dose chemotherapy with stem cell transplantation\\n\\nEndocrine therapy\\n\\nNo concurrent corticosteroids except for physiologic replacement\\n\\nRadiotherapy\\n\\nAt least 4 weeks since prior radiotherapy and recovered\\n\\nExceptions may be made for low-dose, non-myelosuppressive radiotherapy\\nNo prior radiotherapy to more than 25% of functioning bone marrow\\nInvolved-field radiotherapy may be given to areas of bulky disease at relapse (≥ 5 cm) after stem cell transplantation, according to the center's policy\\n\\nSurgery\\n\\nAt least 2 weeks since prior major surgery\\n\\nOther\\n\\nNo other concurrent anticancer therapy\\nNo other concurrent experimental agents\\n\\n\"}, {'role': 'assistant', 'content': 'Lymphoma'}]}\n",
      "{'messages': [{'role': 'system', 'content': 'You are a helpful clinical trial studies assistant. You are to extract the clinical trial studies provided.'}, {'role': 'user', 'content': \"Title: Chemotherapy Before Autologous Stem Cell Transplantation +/- Rituximab in Relapsed or Refractory Aggressive Non-Hodgkin's Lymphoma\\n\\nPhase: Phase 3\\n\\nDate: 2020-03-30\\n\\nFacility: University of Cincinnati, Barrett Cancer Centre\\n\\nCountry: United States\\n\\nCriteria: DISEASE CHARACTERISTICS:\\n\\nHistologically confirmed aggressive non-Hodgkin's lymphoma of 1 of the following subtypes:\\n\\nDiffuse large cell lymphoma (includes primary mediastinal B-cell lymphoma and T-cell-rich B-cell lymphoma)\\n\\nPrior indolent lymphoma (e.g., follicular center cell lymphoma; marginal zone lymphoma, including extranodal mucosa-associated lymphoid tissue [MALT] lymphoma; and lymphoplasmacytoid lymphoma) with transformation to diffuse large B-cell lymphoma at relapse\\n\\nMust be histologically confirmed\\nNo transformed lymphoma at diagnosis with subsequent indolent histology without transformation at relapse\\nPeripheral T-cell lymphoma\\nAnaplastic large cell lymphoma\\nSmall noncleaved Burkitt-like lymphoma\\nT-cell or B-cell lineage confirmed by immunohistochemistry\\n\\nClinically or radiologically documented disease meeting either of the following criteria:\\n\\nMeasurable disease, defined as at least 1 bidimensionally measurable site of disease using clinical exam, CT scan, or MRI\\n\\nLymph nodes must be > 1.5 cm by physical exam or CT scan\\nOther non-nodal lesions must be ≥ 1.0 cm by physical exam, CT scan, or MRI\\nBone lesions are not considered measurable\\n\\nEvaluable disease, defined as only nonmeasurable disease, including any of the following:\\n\\nMarrow infiltration\\nCytology-confirmed ascites or effusions\\nBony involvement\\nEnlarged liver or spleen\\nUnidimensionally measurable intrathoracic or abdominal masses\\nPreviously treated with 1, and only 1, chemotherapy regimen including an anthracycline and excluding cisplatin, cytarabine, and gemcitabine\\n\\nNo uncontrolled CNS involvement by lymphoma\\n\\nNo CNS disease at time of relapse\\nCNS disease diagnosed at initial presentation allowed provided a complete response for CNS disease was achieved and maintained\\n\\nPATIENT CHARACTERISTICS:\\n\\nAge\\n\\n16 to 65\\n\\nPerformance status\\n\\nECOG 0-3\\n\\nLife expectancy\\n\\nAt least 12 weeks\\n\\nHematopoietic\\n\\nAbsolute granulocyte count ≥ 1,000/mm^3\\nPlatelet count ≥ 75,000/mm^3\\n\\nHepatic\\n\\nBilirubin ≤ 1.5 times upper limit of normal (ULN)\\nAST or ALT ≤ 2.5 times ULN (5 times ULN if liver involvement with lymphoma)\\nHepatitis B status known (for patients with a history of hepatitis B or who are at high risk of hepatitis B infection)\\n\\nRenal\\n\\nCreatinine ≤ 1.5 times ULN\\n\\nCardiovascular\\n\\nNo significant cardiac dysfunction or cardiovascular disease\\n\\nOther\\n\\nNot pregnant or nursing\\nNegative pregnancy test\\nFertile patients must use effective contraception\\nWilling to complete quality of life questionnaires\\nHIV negative\\nNo active, uncontrolled bacterial, fungal, or viral infection\\nNo other malignancy within the past 5 years except adequately treated basal cell skin cancer or carcinoma in situ of the cervix\\nNo other concurrent serious illness or medical condition that would preclude study participation\\n\\nPRIOR CONCURRENT THERAPY:\\n\\nBiologic therapy\\n\\nSee Chemotherapy\\nPrior rituximab allowed\\n\\nChemotherapy\\n\\nSee Disease Characteristics\\nAt least 4 weeks since prior IV chemotherapy\\nNo prior high-dose chemotherapy with stem cell transplantation\\n\\nEndocrine therapy\\n\\nNo concurrent corticosteroids except for physiologic replacement\\n\\nRadiotherapy\\n\\nAt least 4 weeks since prior radiotherapy and recovered\\n\\nExceptions may be made for low-dose, non-myelosuppressive radiotherapy\\nNo prior radiotherapy to more than 25% of functioning bone marrow\\nInvolved-field radiotherapy may be given to areas of bulky disease at relapse (≥ 5 cm) after stem cell transplantation, according to the center's policy\\n\\nSurgery\\n\\nAt least 2 weeks since prior major surgery\\n\\nOther\\n\\nNo other concurrent anticancer therapy\\nNo other concurrent experimental agents\\n\\n\"}, {'role': 'assistant', 'content': 'Lymphoma'}]}\n"
     ]
    }
   ],
   "source": [
    "# use the first 100 rows of the dataset for training\n",
    "training_df = ctgov_df.loc[0:10000]\n",
    "\n",
    "# apply the prepare_example_conversation function to each row of the training_df\n",
    "training_data = training_df.apply(prepare_example_conversation, axis=1).tolist()\n",
    "\n",
    "for example in training_data[:5]:\n",
    "    print(example)"
   ]
  },
  {
   "cell_type": "markdown",
   "id": "d0653e4d-d847-445a-a08f-9ee6520fe071",
   "metadata": {},
   "source": [
    "### Data Split for validation"
   ]
  },
  {
   "cell_type": "code",
   "execution_count": 19,
   "id": "0da6b235-f656-47fb-9f9e-aae3b8b531d9",
   "metadata": {},
   "outputs": [],
   "source": [
    "validation_df = ctgov_df.loc[10001:20000]\n",
    "validation_data = validation_df.apply(\n",
    "    prepare_example_conversation, axis=1).tolist()"
   ]
  },
  {
   "cell_type": "markdown",
   "id": "b4ab70a8-b5fb-4f0a-86ef-29ecc5188d24",
   "metadata": {},
   "source": [
    "### Save data for conversations"
   ]
  },
  {
   "cell_type": "code",
   "execution_count": 13,
   "id": "69e58178-d424-46e3-b93b-384a47c8faac",
   "metadata": {},
   "outputs": [],
   "source": [
    "def write_jsonl(data_list: list, filename: str) -> None:\n",
    "    with open(filename, \"w\") as out:\n",
    "        for ddict in data_list:\n",
    "            jout = json.dumps(ddict) + \"\\n\"\n",
    "            out.write(jout)"
   ]
  },
  {
   "cell_type": "code",
   "execution_count": 20,
   "id": "e783bf49-f9da-4084-9761-6cc8073dec98",
   "metadata": {},
   "outputs": [],
   "source": [
    "training_file_name = \"data/tmp_ctgov_finetune_training.jsonl\"\n",
    "write_jsonl(training_data, training_file_name)\n",
    "\n",
    "validation_file_name = \"data/tmp_ctgov_finetune_validation.jsonl\"\n",
    "write_jsonl(validation_data, validation_file_name)"
   ]
  },
  {
   "cell_type": "markdown",
   "id": "7a90eccd-4d75-49b0-9990-eb74f50d7e1b",
   "metadata": {},
   "source": [
    "### Upload files to OpenAI Repo"
   ]
  },
  {
   "cell_type": "code",
   "execution_count": 35,
   "id": "bd2f2dd3-7d91-4e26-840c-2a5fab71e023",
   "metadata": {},
   "outputs": [
    {
     "name": "stdout",
     "output_type": "stream",
     "text": [
      "Training file ID: file-6cyryWZCQ8x2mGUvomW3nsHz\n",
      "Validation file ID: file-Y89q1s98eQCAIyHIeNIHXohG\n"
     ]
    }
   ],
   "source": [
    "def upload_file(file_name: str, purpose: str) -> str:\n",
    "    with open(file_name, \"rb\") as file_fd:\n",
    "        response = client.files.create(file=file_fd, purpose=purpose)\n",
    "    return response.id\n",
    "\n",
    "\n",
    "training_file_id = upload_file(training_file_name, \"fine-tune\")\n",
    "validation_file_id = upload_file(validation_file_name, \"fine-tune\")\n",
    "\n",
    "print(\"Training file ID:\", training_file_id)\n",
    "print(\"Validation file ID:\", validation_file_id)"
   ]
  },
  {
   "cell_type": "markdown",
   "id": "a86d2361-b3ec-4545-9d68-e3534db41a30",
   "metadata": {},
   "source": [
    "### Fine Tuning"
   ]
  },
  {
   "cell_type": "code",
   "execution_count": 36,
   "id": "644fb96c-eff4-46ba-8046-847ad3afdc73",
   "metadata": {},
   "outputs": [
    {
     "name": "stdout",
     "output_type": "stream",
     "text": [
      "Job ID: ftjob-U5qYWnItOgyKrnUqsbV3svJS\n",
      "Status: validating_files\n"
     ]
    }
   ],
   "source": [
    "MODEL = \"gpt-4o-mini-2024-07-18\"\n",
    "\n",
    "response = client.fine_tuning.jobs.create(\n",
    "    training_file=training_file_id,\n",
    "    validation_file=validation_file_id,\n",
    "    model=MODEL,\n",
    "    suffix=\"ctgov-ner\",\n",
    ")\n",
    "\n",
    "job_id = response.id\n",
    "\n",
    "print(\"Job ID:\", response.id)\n",
    "print(\"Status:\", response.status)"
   ]
  },
  {
   "cell_type": "markdown",
   "id": "6a90e405-ed45-48e6-8662-b851a89558a1",
   "metadata": {},
   "source": [
    "### Check Job Status"
   ]
  },
  {
   "cell_type": "code",
   "execution_count": 52,
   "id": "ba83f31f-1599-4761-a05a-43ee2491508e",
   "metadata": {},
   "outputs": [
    {
     "name": "stdout",
     "output_type": "stream",
     "text": [
      "Job ID: ftjob-U5qYWnItOgyKrnUqsbV3svJS\n",
      "Status: succeeded\n",
      "Trained Tokens: 13002778\n"
     ]
    }
   ],
   "source": [
    "response = client.fine_tuning.jobs.retrieve(job_id)\n",
    "\n",
    "print(\"Job ID:\", response.id)\n",
    "print(\"Status:\", response.status)\n",
    "print(\"Trained Tokens:\", response.trained_tokens)"
   ]
  },
  {
   "cell_type": "markdown",
   "id": "6a9a51e0-aba6-4b84-8eed-6e66b1b43f62",
   "metadata": {},
   "source": [
    "### Track Progress"
   ]
  },
  {
   "cell_type": "code",
   "execution_count": 53,
   "id": "ad809b36-c40b-459b-b3bd-7208496f820b",
   "metadata": {},
   "outputs": [
    {
     "name": "stdout",
     "output_type": "stream",
     "text": [
      "Step 1524/1539: training loss=0.15\n",
      "Step 1525/1539: training loss=0.07\n",
      "Step 1526/1539: training loss=0.09\n",
      "Step 1527/1539: training loss=0.07\n",
      "Step 1528/1539: training loss=0.05\n",
      "Step 1529/1539: training loss=0.14\n",
      "Step 1530/1539: training loss=0.17\n",
      "Step 1531/1539: training loss=0.11\n",
      "Step 1532/1539: training loss=0.09\n",
      "Step 1533/1539: training loss=0.13\n",
      "Step 1534/1539: training loss=0.09\n",
      "Step 1535/1539: training loss=0.12\n",
      "Step 1536/1539: training loss=0.14\n",
      "Step 1537/1539: training loss=0.09\n",
      "Step 1538/1539: training loss=0.14, full validation loss=0.28\n",
      "Step 1539/1539: training loss=0.09\n",
      "Checkpoint created at step 769 with Snapshot ID: ft:gpt-4o-mini-2024-07-18:personal:ctgov-ner:9uRw7ny2:ckpt-step-769\n",
      "Checkpoint created at step 1538 with Snapshot ID: ft:gpt-4o-mini-2024-07-18:personal:ctgov-ner:9uRw7Qxm:ckpt-step-1538\n",
      "New fine-tuned model created: ft:gpt-4o-mini-2024-07-18:personal:ctgov-ner:9uRw82NO\n",
      "The job has successfully completed\n"
     ]
    }
   ],
   "source": [
    "response = client.fine_tuning.jobs.list_events(job_id)\n",
    "\n",
    "events = response.data\n",
    "events.reverse()\n",
    "\n",
    "for event in events:\n",
    "    print(event.message)"
   ]
  },
  {
   "cell_type": "markdown",
   "id": "1e809c0f-7442-45b4-a12b-b168e480bbef",
   "metadata": {},
   "source": [
    "### After Training, Get Fine Tune Model ID"
   ]
  },
  {
   "cell_type": "code",
   "execution_count": 54,
   "id": "d99d00d5-5ed7-4db7-9a05-3cef4b77b046",
   "metadata": {},
   "outputs": [
    {
     "name": "stdout",
     "output_type": "stream",
     "text": [
      "Fine-tuned model ID: ft:gpt-4o-mini-2024-07-18:personal:ctgov-ner:9uRw82NO\n"
     ]
    }
   ],
   "source": [
    "response = client.fine_tuning.jobs.retrieve(job_id)\n",
    "fine_tuned_model_id = response.fine_tuned_model\n",
    "\n",
    "if fine_tuned_model_id is None:\n",
    "    raise RuntimeError(\n",
    "        \"Fine-tuned model ID not found. Your job has likely not been completed yet.\"\n",
    "    )\n",
    "\n",
    "print(\"Fine-tuned model ID:\", fine_tuned_model_id)"
   ]
  },
  {
   "cell_type": "markdown",
   "id": "5f2e4358-6485-46cf-bf2e-0de6241a0d41",
   "metadata": {},
   "source": [
    "### Inference"
   ]
  },
  {
   "cell_type": "code",
   "execution_count": 55,
   "id": "75be1aec-251d-4e1e-b69b-0d166967d206",
   "metadata": {},
   "outputs": [
    {
     "name": "stdout",
     "output_type": "stream",
     "text": [
      "[{'content': 'You are a helpful clinical trial studies assistant. You are to '\n",
      "             'extract the clinical trial studies provided.',\n",
      "  'role': 'system'},\n",
      " {'content': 'Title: Benign Prostatic Hyperplasia Trial With Dutasteride And '\n",
      "             'Tamsulosin Combination Treatment\\n'\n",
      "             '\\n'\n",
      "             'Phase: Phase 3\\n'\n",
      "             '\\n'\n",
      "             'Date: 2017-01-16\\n'\n",
      "             '\\n'\n",
      "             'Facility: GSK Investigational Site\\n'\n",
      "             '\\n'\n",
      "             'Country: Mexico\\n'\n",
      "             '\\n'\n",
      "             'Criteria: Inclusion criteria:\\n'\n",
      "             '\\n'\n",
      "             'A subject will be considered eligible for inclusion in this '\n",
      "             'study only if all of the following criteria apply:\\n'\n",
      "             'males, aged ≥50 years\\n'\n",
      "             'clinical diagnosis of BPH by medical history and physical '\n",
      "             'examination, including a digital rectal examination (DRE)\\n'\n",
      "             'International Prostate Symptom Score (IPSS) ≥12 points at '\n",
      "             'Screening\\n'\n",
      "             'prostate volume ≥30 cc by transrectal ultrasonography; (TRUS)\\n'\n",
      "             'total serum Prostate Specific Antigen (PSA) ≥1.5ng/mL at '\n",
      "             'Screening\\n'\n",
      "             'maximum flow rate (Qmax) >5 mL/sec and ≤15 mL/sec and minimum '\n",
      "             'voided volume of ≥125 mL at Screening (based on two voids)\\n'\n",
      "             'willing and able to give written informed consent and comply '\n",
      "             'with study procedures\\n'\n",
      "             'fluent and literate in local language with the ability to read, '\n",
      "             'comprehend and record information on the IPSS, BII and Patient '\n",
      "             'Perception of Study Medication\\n'\n",
      "             'able to swallow and retain oral medication\\n'\n",
      "             'willing and able to participate in the study for the full 4 '\n",
      "             'years.\\n'\n",
      "             '\\n'\n",
      "             'Exclusion Criteria:\\n'\n",
      "             '\\n'\n",
      "             'A subject will not be eligible for inclusion in this study if '\n",
      "             'any of the following criteria apply:\\n'\n",
      "             '\\n'\n",
      "             'total serum PSA >10.0ng/mL at Screening\\n'\n",
      "             'history or evidence of prostate cancer (e.g. positive biopsy or '\n",
      "             'ultrasound, suspicious DRE). Patients with suspicious ultrasound '\n",
      "             'or DRE who have had a negative biopsy within the preceding 6 '\n",
      "             'months and stable PSA are eligible for the study.\\n'\n",
      "             '\\n'\n",
      "             'Note: If total serum PSA is >4ng/mL and unless PSA value has '\n",
      "             'been stable for at least the past 2 years, the investigator '\n",
      "             'should make every appropriate effort to exclude the possibility '\n",
      "             'of prostate cancer, e.g. further DRE, review TRUS taken within '\n",
      "             'previous month, consider 8-12 core prostate biopsy in accordance '\n",
      "             'with routine clinical practice.\\n'\n",
      "             '\\n'\n",
      "             'previous prostatic surgery (including TURP, balloon dilatation, '\n",
      "             'thermotherapy and stent replacement) or other invasive '\n",
      "             'procedures to treat BPH.\\n'\n",
      "             'history of flexible/rigid cystoscopy or other instrumentation of '\n",
      "             'the urethra within 7 days prior to the Screening Visit. Routine '\n",
      "             'catheterisation is acceptable with no time restriction.\\n'\n",
      "             'history of AUR within 3 months prior to Screening Visit.\\n'\n",
      "             'post-void residual volume >250mL (suprapubic ultrasound) at '\n",
      "             'Screening.\\n'\n",
      "             'any causes other than BPH, which may in the judgement of the '\n",
      "             'investigator, result in urinary symptoms or changes in flow rate '\n",
      "             '(e.g. neurogenic bladder, bladder neck contracture, urethral '\n",
      "             'stricture, bladder malignancy, acute or chronic prostatitis, or '\n",
      "             'acute or chronic urinary tract infections).\\n'\n",
      "             'history of breast cancer or clinical breast examination finding '\n",
      "             'of unclear origin or suggestive of malignancy.\\n'\n",
      "             'use of any 5-alpha-reductase inhibitor (e.g. Proscar®, '\n",
      "             'Propecia®, Avodart®), any drugs with antiandrogenic properties '\n",
      "             '(e.g. spironolactone, flutamide, bicalutamide, cimetidine, '\n",
      "             'ketoconazole, metronidazole, progestational agents), or other '\n",
      "             'drugs which affect prostate volume, within past 6 months of the '\n",
      "             'Screening Visit and throughout the study (other than as study '\n",
      "             'medication).\\n'\n",
      "             'concurrent use of anabolic steroids\\n'\n",
      "             'use of phytotherapy for BPH within 2 weeks of Screening Visit '\n",
      "             'and/or predicted to need phytotherapy during the study.\\n'\n",
      "             'use of any alpha-adrenoreceptor blockers (i.e. indoramin, '\n",
      "             'prazosin, terazosin, tamsulosin, alfuzosin and doxazosin) within '\n",
      "             '2 weeks of Screening Visit and/or predicted to need any alpha '\n",
      "             'blockers other than tamsulosin during the study.\\n'\n",
      "             '\\n'\n",
      "             'Note: the purpose of this criteria is to be able to standardise '\n",
      "             'baseline symptom severity for all enrolled patients prior to '\n",
      "             'randomisation and not to specifically exclude current '\n",
      "             'alpha-adrenoreceptor blocker users from participation in the '\n",
      "             'study.\\n'\n",
      "             '\\n'\n",
      "             'use of any alpha-adrenoreceptor agonists (e.g. pseudoephedrine, '\n",
      "             'phenylephrine, ephedrine) or anticholinergics (e.g. oxybutynin, '\n",
      "             'propantheline) or cholinergics (e.g. bethanecol chloride) within '\n",
      "             '48 hours prior to all uroflowmetry assessments.\\n'\n",
      "             'hypersensitivity to any alpha-/beta- adrenoreceptor blocker or '\n",
      "             '5-alpha-reductase inhibitor, or other chemically-related drugs.\\n'\n",
      "             'concurrent use of drugs known or thought to have an interaction '\n",
      "             'with tamsulosin, e.g. cimetidine and warfarin.\\n'\n",
      "             'history of hepatic impairment or abnormal liver function tests '\n",
      "             'at Screening defined as alanine aminotransferase (ALT), '\n",
      "             'aspartate aminotranferase (AST), and/or alkaline phosphatase >2 '\n",
      "             'times the upper limit of normal, or total bilirubin >1.5 times '\n",
      "             'the upper limit of normal (unless associated with predominantly '\n",
      "             \"indirect bilirubin elevation or Gilbert's syndrome).\\n\"\n",
      "             'history of renal insufficiency, or serum creatinine >1.5 times '\n",
      "             'the upper limit of normal or serum creatinine ≥1.5 mg/dL at '\n",
      "             'Screening.\\n'\n",
      "             'prior history of malignancies other than basal cell carcinoma or '\n",
      "             'squamous cell carcinoma of the skin within the past 5 years. '\n",
      "             'Subjects with a prior malignancy who have had no evidence of '\n",
      "             'disease for at least the past 5 years are eligible.\\n'\n",
      "             'history of any illness that in the opinion of the investigator '\n",
      "             'might confound the results of the study or poses additional risk '\n",
      "             'to the patient.\\n'\n",
      "             'any unstable, serious co-existing medical condition(s) '\n",
      "             'including, but not limited to, myocardial infarction, coronary '\n",
      "             'bypass surgery, unstable angina, cardiac arrhythmias, clinically '\n",
      "             'evident congestive heart failure, or cerebrovascular accident '\n",
      "             'within 6 months prior to Screening visit; uncontrolled diabetes '\n",
      "             'or peptic ulcer disease which is uncontrolled by medical '\n",
      "             'management.\\n'\n",
      "             'history of postural hypotension, dizziness, vertigo or any other '\n",
      "             'signs and symptoms of orthostasis, which in the opinion of the '\n",
      "             'investigator could be exacerbated by tamsulosin and result in '\n",
      "             'putting the subject at risk of injury.\\n'\n",
      "             \"history of unsuccessful treatment with tamsulosin or 'first \"\n",
      "             \"dose' hypotensive episode on initiation of \"\n",
      "             'alpha-1-adrenoreceptor antagonist therapy.\\n'\n",
      "             'history of unsuccessful treatment with finasteride or '\n",
      "             'dutasteride\\n'\n",
      "             'history or current evidence of drug or alcohol abuse within the '\n",
      "             'previous 12 months.\\n'\n",
      "             'participation in any investigational or marketed drug trial '\n",
      "             'within 30 days (or 5 half-lives whichever is the longer) '\n",
      "             'preceding the Screening Visit and/or during the course of this '\n",
      "             'study.\\n'\n",
      "             '\\n',\n",
      "  'role': 'user'}]\n"
     ]
    }
   ],
   "source": [
    "test_df = ctgov_df.loc[20001:30000]\n",
    "test_row = test_df.iloc[0]\n",
    "test_messages = []\n",
    "test_messages.append({\"role\": \"system\", \"content\": system_message})\n",
    "user_message = create_user_message(test_row)\n",
    "test_messages.append({\"role\": \"user\", \"content\": user_message})\n",
    "\n",
    "pprint(test_messages)"
   ]
  },
  {
   "cell_type": "code",
   "execution_count": 56,
   "id": "b0482c80-6672-4d26-9826-a73bc063a733",
   "metadata": {},
   "outputs": [
    {
     "name": "stdout",
     "output_type": "stream",
     "text": [
      "Benign Prostatic Hyperplasia\n"
     ]
    }
   ],
   "source": [
    "response = client.chat.completions.create(\n",
    "    model=fine_tuned_model_id, messages=test_messages, temperature=0, max_tokens=500\n",
    ")\n",
    "print(response.choices[0].message.content)"
   ]
  },
  {
   "cell_type": "code",
   "execution_count": null,
   "id": "1db186a2-7b14-449e-9a3b-6c1e58561b5b",
   "metadata": {},
   "outputs": [],
   "source": []
  }
 ],
 "metadata": {
  "kernelspec": {
   "display_name": "Python 3 (ipykernel)",
   "language": "python",
   "name": "python3"
  },
  "language_info": {
   "codemirror_mode": {
    "name": "ipython",
    "version": 3
   },
   "file_extension": ".py",
   "mimetype": "text/x-python",
   "name": "python",
   "nbconvert_exporter": "python",
   "pygments_lexer": "ipython3",
   "version": "3.11.2"
  }
 },
 "nbformat": 4,
 "nbformat_minor": 5
}
